{
 "cells": [
  {
   "cell_type": "code",
   "execution_count": 3,
   "metadata": {},
   "outputs": [
    {
     "name": "stdout",
     "output_type": "stream",
     "text": [
      "Input\n",
      " [[0.66666667 1.        ]\n",
      " [0.33333333 0.55555556]\n",
      " [1.         0.66666667]]\n",
      "Actual Output\n",
      " [[0.92]\n",
      " [0.86]\n",
      " [0.89]]\n",
      "Predicted Output\n",
      " [[0.89472203]\n",
      " [0.88084296]\n",
      " [0.89408958]]\n"
     ]
    }
   ],
   "source": [
    "import numpy as np\n",
    "X = np.array(([2, 9], [1, 5], [3, 6]), dtype=float)\n",
    "y = np.array(([92], [86], [89]), dtype=float)\n",
    "X = X/np.amax(X,axis=0) \n",
    "y = y/100  \n",
    "def sigmoid (x):return 1/(1 + np.exp(-x))\n",
    "def derivatives_sigmoid(x):return x * (1 - x)\n",
    "epoch = 7000 \n",
    "lr = 0.1     \n",
    "ineu = 2     \n",
    "hneu = 3     \n",
    "oneu = 1     \n",
    "wh=np.random.uniform(size=(ineu,hneu ))\n",
    "bh=np.random.uniform(size=(1,hneu ))         \n",
    "wout=np.random.uniform(size=(hneu ,oneu))\n",
    "bout=np.random.uniform(size=(1,oneu))\n",
    "\n",
    "for i in range(epoch):\n",
    "  hinp= np.dot(X,wh) + bh\n",
    "  hlayeract = sigmoid(hinp)\n",
    "  outinp= np.dot(hlayeract,wout)+  bout\n",
    "  output = sigmoid(outinp) \n",
    "  doutput = (y-output)* derivatives_sigmoid(output)  \n",
    "  dhiddenlayer =  doutput.dot(wout.T)* derivatives_sigmoid(hlayeract)  \n",
    "  wout += hlayeract.T.dot(doutput) *lr\n",
    "  wh += X.T.dot(dhiddenlayer) *lr\n",
    "print(\"Input\\n\" ,X)\n",
    "print(\"Actual Output\\n\", y)\n",
    "print(\"Predicted Output\\n\" ,output)"
   ]
  },
  {
   "cell_type": "code",
   "execution_count": null,
   "metadata": {},
   "outputs": [],
   "source": []
  }
 ],
 "metadata": {
  "kernelspec": {
   "display_name": "Python 3 (ipykernel)",
   "language": "python",
   "name": "python3"
  },
  "language_info": {
   "codemirror_mode": {
    "name": "ipython",
    "version": 3
   },
   "file_extension": ".py",
   "mimetype": "text/x-python",
   "name": "python",
   "nbconvert_exporter": "python",
   "pygments_lexer": "ipython3",
   "version": "3.9.7"
  }
 },
 "nbformat": 4,
 "nbformat_minor": 4
}
