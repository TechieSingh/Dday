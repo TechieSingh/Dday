{
 "cells": [
  {
   "cell_type": "code",
   "execution_count": 1,
   "id": "46fbc9d3",
   "metadata": {},
   "outputs": [],
   "source": [
    "import numpy as np\n",
    "import pandas as pd\n",
    "import matplotlib.pyplot as plt"
   ]
  },
  {
   "cell_type": "code",
   "execution_count": 2,
   "id": "1937a329",
   "metadata": {},
   "outputs": [],
   "source": [
    "data = pd.read_csv('tips.csv')\n",
    "x = np.array(data.iloc[:,0].values)[:,np.newaxis]\n",
    "y = np.array(data.iloc[:,1].values)[:,np.newaxis]\n",
    "domain = np.linspace(0,60,100)\n"
   ]
  },
  {
   "cell_type": "code",
   "execution_count": 3,
   "id": "681a8bc2",
   "metadata": {},
   "outputs": [],
   "source": [
    "def kernel(x,x0,t):\n",
    " return np.exp(np.sum((x-x0)**2 , axis = 1)/ (-2*t*t))"
   ]
  },
  {
   "cell_type": "code",
   "execution_count": 4,
   "id": "01b043ec",
   "metadata": {},
   "outputs": [],
   "source": [
    "def local_regression(x,x0,y,t):\n",
    " x0 = np.r_[1,x0]\n",
    " x = np.c_[np.ones(len(x)),x]\n",
    " xw = x.T * kernel(x,x0,t)\n",
    " beta = np.linalg.pinv(xw @ x) @ xw @ y\n",
    " return x0 @ beta"
   ]
  },
  {
   "cell_type": "code",
   "execution_count": 5,
   "id": "89bb909d",
   "metadata": {},
   "outputs": [],
   "source": [
    "def plot_graph(t):\n",
    " pred = [local_regression(x,x0,y,t) for x0 in domain]\n",
    " plt.plot(x,y, 'b.')\n",
    " plt.plot(domain,pred, 'r.')\n",
    " plt.show()\n"
   ]
  },
  {
   "cell_type": "code",
   "execution_count": 6,
   "id": "7804d05a",
   "metadata": {},
   "outputs": [
    {
     "data": {
      "image/png": "[encoded data removed]",
      "text/plain": [
       "<Figure size 432x288 with 1 Axes>"
      ]
     },
     "metadata": {
      "needs_background": "light"
     },
     "output_type": "display_data"
    }
   ],
   "source": [
    "plot_graph(2)\n"
   ]
  },
  {
   "cell_type": "code",
   "execution_count": null,
   "id": "37aa52fe",
   "metadata": {},
   "outputs": [],
   "source": []
  }
 ],
 "metadata": {
  "kernelspec": {
   "display_name": "Python 3 (ipykernel)",
   "language": "python",
   "name": "python3"
  },
  "language_info": {
   "codemirror_mode": {
    "name": "ipython",
    "version": 3
   },
   "file_extension": ".py",
   "mimetype": "text/x-python",
   "name": "python",
   "nbconvert_exporter": "python",
   "pygments_lexer": "ipython3",
   "version": "3.9.7"
  }
 },
 "nbformat": 4,
 "nbformat_minor": 5
}
