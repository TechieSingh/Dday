{
 "cells": [
  {
   "cell_type": "code",
   "execution_count": 6,
   "id": "4c4a4817",
   "metadata": {},
   "outputs": [
    {
     "name": "stdout",
     "output_type": "stream",
     "text": [
      "Accuracy for size  0.2  is :  0.0\n",
      "Accuracy for size  0.3  is :  0.4\n",
      "Accuracy for size  0.4  is :  0.5\n"
     ]
    }
   ],
   "source": [
    "import pandas as pd\n",
    "from sklearn.preprocessing import LabelEncoder\n",
    "from sklearn.model_selection import train_test_split\n",
    "from sklearn.metrics import accuracy_score\n",
    "from sklearn.naive_bayes import GaussianNB\n",
    "data = pd.read_csv(\"naive.csv\")\n",
    "x = data.iloc[:,:-1].values\n",
    "y = data.iloc[:,-1].values\n",
    "le1 = LabelEncoder()\n",
    "x[:,1]=le1.fit_transform(x[:,1])\n",
    "x[:,2]=le1.fit_transform(x[:,2])\n",
    "x[:,3]=le1.fit_transform(x[:,3])\n",
    "x[:,4]=le1.fit_transform(x[:,4])\n",
    "\n",
    "y = le1.fit_transform(y)\n",
    "sizes = [0.2,0.3,0.4]\n",
    "for i in sizes:\n",
    "    x_train,x_test,y_train,y_test = train_test_split(x,y,test_size=i)\n",
    "    classifier = GaussianNB()\n",
    "    classifier.fit(x_train,y_train)\n",
    "    y_pred = classifier.predict(x_test)\n",
    "    accuracy = accuracy_score(y_test,y_pred)\n",
    "    print(\"Accuracy for size \",i,\" is : \",accuracy)"
   ]
  },
  {
   "cell_type": "code",
   "execution_count": null,
   "id": "d0d5a175",
   "metadata": {},
   "outputs": [],
   "source": []
  }
 ],
 "metadata": {
  "kernelspec": {
   "display_name": "Python 3 (ipykernel)",
   "language": "python",
   "name": "python3"
  },
  "language_info": {
   "codemirror_mode": {
    "name": "ipython",
    "version": 3
   },
   "file_extension": ".py",
   "mimetype": "text/x-python",
   "name": "python",
   "nbconvert_exporter": "python",
   "pygments_lexer": "ipython3",
   "version": "3.9.7"
  }
 },
 "nbformat": 4,
 "nbformat_minor": 5
}
