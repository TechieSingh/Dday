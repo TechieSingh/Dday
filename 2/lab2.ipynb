{
 "cells": [
  {
   "cell_type": "code",
   "execution_count": 2,
   "id": "86e7e68f",
   "metadata": {},
   "outputs": [
    {
     "name": "stdout",
     "output_type": "stream",
     "text": [
      "[['Sunny' 'Warm' 'Normal' 'Strong' 'Warm' 'Same']\n",
      " ['Sunny' 'Warm' 'High' 'Strong' 'Warm' 'Same']\n",
      " ['Rainy' 'Cold' 'High' 'Strong' 'Warm' 'Change']\n",
      " ['Sunny' 'Warm' 'High' 'Strong' 'Cool' 'Change']]\n",
      "['Yes' 'Yes' 'No' 'Yes']\n"
     ]
    }
   ],
   "source": [
    "import pandas as pd\n",
    "import numpy as np\n",
    "file = pd.read_csv('weather.csv')\n",
    "concept =np.array(file.iloc[:,0:-1])\n",
    "target = np.array(file.iloc[:,-1])\n",
    "print(concept)\n",
    "print(target)"
   ]
  },
  {
   "cell_type": "code",
   "execution_count": 7,
   "id": "a3d5f252",
   "metadata": {},
   "outputs": [
    {
     "name": "stdout",
     "output_type": "stream",
     "text": [
      "['Sunny' 'Warm' 'Normal' 'Strong' 'Warm' 'Same']\n",
      "[['?', '?', '?', '?', '?', '?'], ['?', '?', '?', '?', '?', '?'], ['?', '?', '?', '?', '?', '?'], ['?', '?', '?', '?', '?', '?'], ['?', '?', '?', '?', '?', '?'], ['?', '?', '?', '?', '?', '?']]\n",
      "general [['?', '?', '?', '?', '?', '?'], ['?', '?', '?', '?', '?', '?'], ['?', '?', '?', '?', '?', '?'], ['?', '?', '?', '?', '?', '?'], ['?', '?', '?', '?', '?', '?'], ['?', '?', '?', '?', '?', '?']]\n",
      "specific ['Sunny' 'Warm' 'Normal' 'Strong' 'Warm' 'Same']\n",
      "general [['?', '?', '?', '?', '?', '?'], ['?', '?', '?', '?', '?', '?'], ['?', '?', '?', '?', '?', '?'], ['?', '?', '?', '?', '?', '?'], ['?', '?', '?', '?', '?', '?'], ['?', '?', '?', '?', '?', '?']]\n",
      "specific ['Sunny' 'Warm' '?' 'Strong' 'Warm' 'Same']\n",
      "general [['Sunny', '?', '?', '?', '?', '?'], ['?', 'Warm', '?', '?', '?', '?'], ['?', '?', '?', '?', '?', '?'], ['?', '?', '?', '?', '?', '?'], ['?', '?', '?', '?', '?', '?'], ['?', '?', '?', '?', '?', 'Same']]\n",
      "specific ['Sunny' 'Warm' '?' 'Strong' 'Warm' 'Same']\n",
      "general [['Sunny', '?', '?', '?', '?', '?'], ['?', 'Warm', '?', '?', '?', '?'], ['?', '?', '?', '?', '?', '?'], ['?', '?', '?', '?', '?', '?'], ['?', '?', '?', '?', '?', '?'], ['?', '?', '?', '?', '?', '?']]\n",
      "specific ['Sunny' 'Warm' '?' 'Strong' '?' '?']\n",
      "\n",
      "\n",
      "Final speific ['Sunny' 'Warm' '?' 'Strong' '?' '?']\n",
      "Final general [['Sunny', '?', '?', '?', '?', '?'], ['?', 'Warm', '?', '?', '?', '?']]\n"
     ]
    }
   ],
   "source": [
    "def learn(concept,target):\n",
    "    specific = concept[0].copy()\n",
    "    print(specific)\n",
    "    general = [['?' for i in range(len(specific))] for i in range(len(specific))]\n",
    "    print(general)\n",
    "    for i,h in enumerate(concept):\n",
    "        if(target[i] == 'Yes'):\n",
    "            for x in range(len(specific)):\n",
    "                if(h[x]!= specific[x]):\n",
    "                    specific[x] = '?'\n",
    "                    general[x][x] = '?'\n",
    "        if(target[i] == 'No'):\n",
    "            for x in range(len(specific)):\n",
    "                if(h[x]!= specific[x]):\n",
    "                    general[x][x] = specific[x]\n",
    "                else:\n",
    "                    general[x][x] = '?'\n",
    "                    \n",
    "        print(\"general\", general)\n",
    "        print(\"specific\", specific)\n",
    "    indices = [i for i,val in enumerate(general) if val == ['?','?','?','?','?','?'] ]\n",
    "    for i in indices:\n",
    "        general.remove(['?','?','?','?','?','?'])\n",
    "    return (general,specific)\n",
    "fg , fs = learn(concept, target)\n",
    "print(\"\\n\")\n",
    "print(\"Final speific\", fs)\n",
    "print(\"Final general\", fg)"
   ]
  },
  {
   "cell_type": "code",
   "execution_count": null,
   "id": "3ae20c5e",
   "metadata": {},
   "outputs": [],
   "source": []
  }
 ],
 "metadata": {
  "kernelspec": {
   "display_name": "Python 3 (ipykernel)",
   "language": "python",
   "name": "python3"
  },
  "language_info": {
   "codemirror_mode": {
    "name": "ipython",
    "version": 3
   },
   "file_extension": ".py",
   "mimetype": "text/x-python",
   "name": "python",
   "nbconvert_exporter": "python",
   "pygments_lexer": "ipython3",
   "version": "3.9.7"
  }
 },
 "nbformat": 4,
 "nbformat_minor": 5
}
