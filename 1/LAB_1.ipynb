{
 "cells": [
  {
   "cell_type": "code",
   "execution_count": 28,
   "id": "f7111a2c",
   "metadata": {},
   "outputs": [],
   "source": [
    "import pandas as pd"
   ]
  },
  {
   "cell_type": "code",
   "execution_count": 29,
   "id": "38d0479d",
   "metadata": {},
   "outputs": [
    {
     "name": "stdout",
     "output_type": "stream",
     "text": [
      "     Sky  Temp Humidity    Wind Water Forecast Target\n",
      "0  Sunny  Warm   Normal  Strong  Warm     Same    Yes\n",
      "1  Sunny  Warm     High  Strong  Warm     Same    Yes\n",
      "2  Rainy  Cold     High  Strong  Warm   Change     No\n",
      "3  Sunny  Warm     High  Strong  Cool   Change    Yes\n"
     ]
    }
   ],
   "source": [
    "file=pd.read_csv('weather.csv')\n",
    "print(file)"
   ]
  },
  {
   "cell_type": "code",
   "execution_count": 30,
   "id": "ffd77382",
   "metadata": {},
   "outputs": [],
   "source": [
    "attributes=['Sky','Temp','Humidity','Wind','Water','Forecast']\n",
    "no=len(attributes)\n",
    "target=['Yes','Yes','No', 'Yes']"
   ]
  },
  {
   "cell_type": "code",
   "execution_count": 31,
   "id": "7e480089",
   "metadata": {},
   "outputs": [],
   "source": [
    "hypothesis=['0']*no"
   ]
  },
  {
   "cell_type": "code",
   "execution_count": 32,
   "id": "8e5d9155",
   "metadata": {},
   "outputs": [
    {
     "name": "stdout",
     "output_type": "stream",
     "text": [
      "1 ['Sunny', 'Warm', 'Normal', 'Strong', 'Warm', 'Same']\n",
      "2 ['Sunny', 'Warm', '?', 'Strong', 'Warm', 'Same']\n",
      "4 ['Sunny', 'Warm', '?', 'Strong', '?', '?']\n",
      "Final ['Sunny', 'Warm', '?', 'Strong', '?', '?']\n"
     ]
    }
   ],
   "source": [
    "for i in range(len(target)):\n",
    "    if target[i]=='Yes':\n",
    "        for x in range(no):\n",
    "            if hypothesis[x]=='0':\n",
    "                hypothesis[x]=file.iloc[i,x]\n",
    "            if hypothesis[x]!=file.iloc[i,x]:\n",
    "                hypothesis[x]='?'\n",
    "        print(i+1,hypothesis)\n",
    "        \n",
    "print(\"Final\",hypothesis)"
   ]
  }
 ],
 "metadata": {
  "kernelspec": {
   "display_name": "Python 3 (ipykernel)",
   "language": "python",
   "name": "python3"
  },
  "language_info": {
   "codemirror_mode": {
    "name": "ipython",
    "version": 3
   },
   "file_extension": ".py",
   "mimetype": "text/x-python",
   "name": "python",
   "nbconvert_exporter": "python",
   "pygments_lexer": "ipython3",
   "version": "3.9.7"
  }
 },
 "nbformat": 4,
 "nbformat_minor": 5
}
