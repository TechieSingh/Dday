{
 "cells": [
  {
   "cell_type": "code",
   "execution_count": 7,
   "id": "f7111a2c",
   "metadata": {},
   "outputs": [],
   "source": [
    "import pandas as pd\n",
    "import numpy as np"
   ]
  },
  {
   "cell_type": "code",
   "execution_count": 8,
   "id": "3006c6a6",
   "metadata": {},
   "outputs": [],
   "source": [
    "file=pd.read_csv('weather.csv')"
   ]
  },
  {
   "cell_type": "code",
   "execution_count": 13,
   "id": "297ab4ac",
   "metadata": {},
   "outputs": [],
   "source": [
    "attributes=['Sky','Temp','Humidity','Wind','Water','Forecast']\n",
    "no=len(attributes)\n",
    "target=['Yes','Yes','No', 'Yes']"
   ]
  },
  {
   "cell_type": "code",
   "execution_count": 14,
   "id": "7c402625",
   "metadata": {},
   "outputs": [],
   "source": [
    "hypothesis=['0']*no"
   ]
  },
  {
   "cell_type": "code",
   "execution_count": 15,
   "id": "9636da6d",
   "metadata": {},
   "outputs": [
    {
     "name": "stdout",
     "output_type": "stream",
     "text": [
      "1 ['Sunny', 'Warm', 'Normal', 'Strong', 'Warm', 'Same']\n",
      "Final ['Sunny', 'Warm', 'Normal', 'Strong', 'Warm', 'Same']\n",
      "2 ['Sunny', 'Warm', '?', 'Strong', 'Warm', 'Same']\n",
      "Final ['Sunny', 'Warm', '?', 'Strong', 'Warm', 'Same']\n",
      "Final ['Sunny', 'Warm', '?', 'Strong', 'Warm', 'Same']\n",
      "4 ['Sunny', 'Warm', '?', 'Strong', '?', '?']\n",
      "Final ['Sunny', 'Warm', '?', 'Strong', '?', '?']\n"
     ]
    }
   ],
   "source": [
    "for i in range(len(target)):\n",
    "    if target[i]=='Yes':\n",
    "        for x in range(no):\n",
    "            if hypothesis[x]=='0':\n",
    "                hypothesis[x]=file.iloc[i,x]\n",
    "            if hypothesis[x]!=file.iloc[i,x]:\n",
    "                hypothesis[x]='?'\n",
    "        print(i+1,hypothesis)\n",
    "        \n",
    "print(\"Final\",hypothesis)"
   ]
  },
  {
   "cell_type": "code",
   "execution_count": null,
   "id": "5cff0161",
   "metadata": {},
   "outputs": [],
   "source": []
  }
 ],
 "metadata": {
  "kernelspec": {
   "display_name": "Python 3 (ipykernel)",
   "language": "python",
   "name": "python3"
  },
  "language_info": {
   "codemirror_mode": {
    "name": "ipython",
    "version": 3
   },
   "file_extension": ".py",
   "mimetype": "text/x-python",
   "name": "python",
   "nbconvert_exporter": "python",
   "pygments_lexer": "ipython3",
   "version": "3.9.7"
  }
 },
 "nbformat": 4,
 "nbformat_minor": 5
}
